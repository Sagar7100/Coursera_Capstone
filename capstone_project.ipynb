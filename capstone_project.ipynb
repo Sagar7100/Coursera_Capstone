{
  "nbformat": 4,
  "nbformat_minor": 0,
  "metadata": {
    "colab": {
      "name": "Untitled7.ipynb",
      "provenance": []
    },
    "kernelspec": {
      "name": "python3",
      "display_name": "Python 3"
    },
    "language_info": {
      "name": "python"
    }
  },
  "cells": [
    {
      "cell_type": "markdown",
      "metadata": {
        "id": "p0zRKZrg8i0u"
      },
      "source": [
        " This Notebook is created for capstone project of Data Science"
      ]
    },
    {
      "cell_type": "code",
      "metadata": {
        "id": "Y1y0-kdE769R"
      },
      "source": [
        "import pandas as pd\n",
        "import numpy as np"
      ],
      "execution_count": 1,
      "outputs": []
    },
    {
      "cell_type": "code",
      "metadata": {
        "colab": {
          "base_uri": "https://localhost:8080/"
        },
        "id": "i5PKxoTk89YC",
        "outputId": "eddcefbf-828d-46fa-8f4a-e4a15bd7a77e"
      },
      "source": [
        "print(\"Hello Capstone Project Course!\")"
      ],
      "execution_count": 2,
      "outputs": [
        {
          "output_type": "stream",
          "text": [
            "Hello Capstone Project Course!\n"
          ],
          "name": "stdout"
        }
      ]
    }
  ]
}